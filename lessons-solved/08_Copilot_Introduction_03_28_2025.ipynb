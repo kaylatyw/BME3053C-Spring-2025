{
 "cells": [
  {
   "cell_type": "markdown",
   "metadata": {},
   "source": [
    "# BME3053C - Computer Applications for BME\n",
    "\n",
    "<br/>\n",
    "\n",
    "<h1 align=\"center\">GitHub Copilot Introduction</h1>\n",
    "\n",
    "---\n",
    "\n",
    "<center><h2>Introduction to AI-Assisted Programming</h2></center>\n",
    "\n",
    "<br/>"
   ]
  },
  {
   "cell_type": "markdown",
   "metadata": {},
   "source": [
    "# What is GitHub Copilot?\n",
    "\n",
    "GitHub Copilot is an AI pair programmer that helps you write code faster and with less effort. It works by:\n",
    "\n",
    "- Suggesting whole lines or blocks of code as you type\n",
    "- Converting comments into working code\n",
    "- Helping you understand and work with unfamiliar libraries\n",
    "- Offering multiple suggestions for you to choose from\n",
    "- Learning from your coding style and preferences\n",
    "\n",
    "# Getting Started with Copilot\n",
    "\n",
    "1. **Access Copilot through GitHub Student Developer Pack**:\n",
    "   - Sign up for the [GitHub Student Developer Pack](https://education.github.com/pack)\n",
    "   - Once approved, activate your free Copilot subscription\n",
    "\n",
    "2. **Install Copilot in Your Development Environment**:\n",
    "   - VS Code: Install the \"GitHub Copilot\" extension\n",
    "   - GitHub Codespaces: Copilot is available by default\n",
    "   - JupyterLab: Install the Copilot extension\n",
    "\n",
    "3. **Verify Installation**:\n",
    "   - Look for the Copilot icon in your editor's status bar\n",
    "   - The icon should be active (not grayed out)\n",
    "   - You might need to sign in to GitHub to activate Copilot"
   ]
  },
  {
   "cell_type": "markdown",
   "metadata": {},
   "source": [
    "# Switching AI Models in Copilot\n",
    "\n",
    "GitHub Copilot offers different AI models to help with various coding tasks. Here's how to switch between them:\n",
    "\n",
    "## Available Models\n",
    "\n",
    "- **Default (GPT-3.5 Turbo)**: The standard model for general coding assistance\n",
    "- **GPT-4**: More powerful model with enhanced code understanding and generation capabilities\n",
    "- **Copilot Chat**: Conversational interface for complex queries and explanations\n",
    "\n",
    "## How to Switch Models\n",
    "\n",
    "1. **In VS Code**:\n",
    "    - Click on the Copilot icon in the status bar\n",
    "    - Select \"GitHub Copilot: Switch Model\"\n",
    "    - Choose your preferred model from the dropdown menu\n",
    "\n",
    "2. **Using Command Palette**:\n",
    "    - Press `Ctrl+Shift+P` (Windows/Linux) or `Cmd+Shift+P` (Mac)\n",
    "    - Type \"GitHub Copilot: Switch Model\"\n",
    "    - Select the desired model\n",
    "\n",
    "3. **In Copilot Chat**:\n",
    "    - Type `/model` followed by the model name\n",
    "    - Example: `/model gpt-4`\n",
    "\n",
    "## When to Use Different Models\n",
    "\n",
    "- **Default Model**: Everyday coding tasks, quick suggestions\n",
    "- **GPT-4**: Complex algorithms, thorough code explanations, challenging problems\n",
    "- **Specialized Models**: Domain-specific coding (when available)\n",
    "\n",
    "Remember that more powerful models might be slower to respond or have usage limitations based on your subscription plan."
   ]
  },
  {
   "cell_type": "markdown",
   "metadata": {},
   "source": [
    "# Basic Usage\n",
    "\n",
    "## 1. Code Completion\n",
    "\n",
    "Copilot provides suggestions as you type. Let's try some examples:\n",
    "\n",
    "1. Start typing a function definition:\n",
    "```python\n",
    "def calculate_bmi(weight, height):\n",
    "    # Calculate BMI using weight in kg and height in meters\n",
    "```\n",
    "\n",
    "2. Copilot will suggest the implementation. Press Tab to accept or keep typing for different suggestions."
   ]
  },
  {
   "cell_type": "code",
   "execution_count": 2,
   "metadata": {},
   "outputs": [
    {
     "name": "stdout",
     "output_type": "stream",
     "text": [
      "Your BMI is 1.88\n",
      "Your BMI category is Underweight\n"
     ]
    }
   ],
   "source": [
    "def calculate_bmi(weight, height):\n",
    "    # Calculate BMI using weight in kg and height in meters\n",
    "    if height <= 0:\n",
    "        raise ValueError(\"Height must be greater than zero\")\n",
    "    if weight <= 0:\n",
    "        raise ValueError(\"Weight must be greater than zero\")\n",
    "    bmi = weight / height ** 2\n",
    "    return round(bmi, 2)\n",
    "\n",
    "def calculate_bmi_category(bmi):\n",
    "    # Determine BMI category based on BMI value\n",
    "    if bmi < 18.5:\n",
    "        return \"Underweight\"\n",
    "    elif bmi < 25:\n",
    "        return \"Normal weight\"\n",
    "    elif bmi < 30:\n",
    "        return \"Overweight\"\n",
    "    else:\n",
    "        return \"Obesity\"        \n",
    "    \n",
    "    \n",
    "def main(): \n",
    "    # Get user input for weight and height\n",
    "    weight = float(input(\"Enter your weight in kg: \"))\n",
    "    height = float(input(\"Enter your height in meters: \"))\n",
    "    \n",
    "    # Calculate BMI and BMI category\n",
    "    bmi = calculate_bmi(weight, height)\n",
    "    bmi_category = calculate_bmi_category(bmi)\n",
    "    \n",
    "    # Print results\n",
    "    print(f\"Your BMI is {bmi}\")\n",
    "    print(f\"Your BMI category is {bmi_category}\")\n",
    "\n",
    "main()\n",
    "\n",
    "\n",
    "\n",
    "\n",
    "    "
   ]
  },
  {
   "cell_type": "markdown",
   "metadata": {},
   "source": [
    "## 2. Comment-to-Code\n",
    "\n",
    "One of Copilot's most powerful features is generating code from comments:\n"
   ]
  },
  {
   "cell_type": "code",
   "execution_count": 10,
   "metadata": {},
   "outputs": [
    {
     "name": "stdout",
     "output_type": "stream",
     "text": [
      "23.0°C is equal to 73.4°F\n"
     ]
    }
   ],
   "source": [
    "# Create a function that converts temperature from Celsius to Fahrenheit\n",
    "# Include input validation and round to 2 decimal places\n",
    "\n",
    "# Try typing this comment and let Copilot suggest the implementation\n",
    "\n",
    "def celsius_to_fahrenheit(celsius):\n",
    "      if celsius < -273.15:\n",
    "         raise ValueError(\"Temperature must be greater than -273.15\")\n",
    "      fahrenheit = celsius * 9 / 5 + 32\n",
    "      return round(fahrenheit, 2)\n",
    "\n",
    "def main():\n",
    "      celsius = float(input(\"Enter temperature in Celsius: \"))\n",
    "      fahrenheit = celsius_to_fahrenheit(celsius)\n",
    "      print(f\"{celsius}°C is equal to {fahrenheit}°F\")\n",
    "\n",
    "main()   \n",
    "\n",
    "\n"
   ]
  },
  {
   "cell_type": "markdown",
   "metadata": {},
   "source": [
    "## 3. Working with Libraries\n",
    "\n",
    "Copilot is particularly helpful when working with libraries. It can suggest proper import statements and usage patterns:"
   ]
  },
  {
   "cell_type": "code",
   "execution_count": 8,
   "metadata": {},
   "outputs": [
    {
     "data": {
      "image/png": "[encoded data removed]",
      "text/plain": [
       "<Figure size 1000x600 with 2 Axes>"
      ]
     },
     "metadata": {},
     "output_type": "display_data"
    }
   ],
   "source": [
    "# Create a scatter plot using matplotlib with the following features:\n",
    "# - Random data points\n",
    "# - Custom colors based on point values\n",
    "# - A trend line\n",
    "# - Proper labels and title\n",
    "# - A legend\n",
    "# - Proper\n",
    "\n",
    "# Let Copilot suggest the implementation\n",
    "\n",
    "import numpy as np\n",
    "import matplotlib.pyplot as plt \n",
    "\n",
    "\n",
    "# Generate random data\n",
    "np.random.seed(42)  # For reproducibility\n",
    "x = np.random.normal(0, 2, 100)\n",
    "y = 0.5 * x + np.random.normal(0, 1, 100)\n",
    "\n",
    "# Create the scatter plot\n",
    "plt.figure(figsize=(10, 6))\n",
    "\n",
    "# Color points based on their y-values\n",
    "scatter = plt.scatter(x, y, c=y, cmap='viridis', alpha=0.6)\n",
    "\n",
    "# Add trend line\n",
    "z = np.polyfit(x, y, 1)\n",
    "p = np.poly1d(z)\n",
    "plt.plot(x, p(x), \"r--\", alpha=0.8, label='Trend line')\n",
    "\n",
    "# Customize the plot\n",
    "plt.title('Random Data with Trend Line', fontsize=14)\n",
    "plt.xlabel('X values', fontsize=12)\n",
    "plt.ylabel('Y values', fontsize=12)\n",
    "\n",
    "# Add colorbar\n",
    "plt.colorbar(scatter, label='Y value intensity')\n",
    "\n",
    "# Add legend\n",
    "plt.legend()\n",
    "\n",
    "# Add grid for better readability\n",
    "plt.grid(True, alpha=0.3)\n",
    "\n",
    "# Improve layout\n",
    "plt.tight_layout()\n",
    "\n",
    "# Show the plot\n",
    "plt.show()\n"
   ]
  },
  {
   "cell_type": "code",
   "execution_count": null,
   "metadata": {},
   "outputs": [],
   "source": [
    "import numpy as np\n",
    "import matplotlib.pyplot as plt\n",
    "from ipywidgets import interact, FloatSlider\n",
    "%matplotlib inline\n",
    "\n",
    "def plot_with_slope(slope):\n",
    "    \"\"\"\n",
    "    Interactive plot with adjustable slope using a slider\n",
    "    \n",
    "    Args:\n",
    "        slope (float): Slope value from the slider\n",
    "    \"\"\"\n",
    "    # Generate random data\n",
    "    np.random.seed(42)\n",
    "    x = np.random.normal(0, 2, 100)\n",
    "    y = slope * x + np.random.normal(0, 1, 100)\n",
    "    \n",
    "    # Create plot\n",
    "    plt.figure(figsize=(10, 6))\n",
    "    \n",
    "    # Scatter plot with colors\n",
    "    scatter = plt.scatter(x, y, c=y, cmap='viridis', alpha=0.6)\n",
    "    \n",
    "    # Add trend line\n",
    "    z = np.polyfit(x, y, 1)\n",
    "    p = np.poly1d(z)\n",
    "    plt.plot(x, p(x), \"r--\", alpha=0.8, \n",
    "             label=f'Trend line (fitted slope ≈ {z[0]:.2f})')\n",
    "    \n",
    "    # Customize plot\n",
    "    plt.title(f'Interactive Plot with Slope = {slope}', fontsize=14)\n",
    "    plt.xlabel('X values', fontsize=12)\n",
    "    plt.ylabel('Y values', fontsize=12)\n",
    "    plt.colorbar(scatter, label='Y value intensity')\n",
    "    plt.legend()\n",
    "    plt.grid(True, alpha=0.3)\n",
    "    plt.tight_layout()\n",
    "    \n",
    "    plt.show()\n",
    "\n",
    "# Create interactive slider\n",
    "interact(plot_with_slope, \n",
    "        slope=FloatSlider(\n",
    "            value=0.5,\n",
    "            min=-3.0,\n",
    "            max=3.0,\n",
    "            step=0.1,\n",
    "            description='Slope:',\n",
    "            continuous_update=False\n",
    "        ))"
   ]
  },
  {
   "cell_type": "markdown",
   "metadata": {},
   "source": [
    "## 4. Keyboard Shortcuts for Copilot\n",
    "\n",
    "Here are all the keyboard shortcuts to enhance your productivity with Copilot:\n",
    "\n",
    "### General Shortcuts\n",
    "- **Accept Suggestion**: Press `Tab` to accept the current suggestion.\n",
    "- **Reject Suggestion**: Press `Esc` to dismiss the suggestion.\n",
    "- **Trigger Suggestion**: Press `Ctrl + Space` (Windows/Linux) or `Cmd + Space` (Mac) to manually trigger Copilot suggestions.\n",
    "\n",
    "### Navigating Suggestions\n",
    "- **Cycle Through Suggestions**:\n",
    "    - Press `Alt + ]` (Windows/Linux) or `Option + ]` (Mac) to see the next suggestion.\n",
    "    - Press `Alt + [` (Windows/Linux) or `Option + [` (Mac) to go back to the previous suggestion.\n",
    "\n",
    "### Copilot Panel\n",
    "- **Open Copilot Panel**: Press `Ctrl + Enter` (Windows/Linux) or `Cmd + Enter` (Mac) to open the Copilot panel for more suggestions.\n",
    "\n",
    "### Inline Suggestions\n",
    "- **Show Next Inline Suggestion**: Press `Alt + \\` (Windows/Linux) or `Option + \\` (Mac).\n",
    "- **Show Previous Inline Suggestion**: Press `Alt + Shift + \\` (Windows/Linux) or `Option + Shift + \\` (Mac).\n",
    "\n",
    "### Dismiss Suggestions\n",
    "- **Dismiss Inline Suggestion**: Press `Esc`.\n",
    "\n",
    "### Ghost Text\n",
    "- **Accept Word**: Press `Ctrl + Right Arrow` (Windows/Linux) or `Cmd + Right Arrow` (Mac) to accept one word at a time.\n",
    "- **Accept Line**: Press `Ctrl + End` (Windows/Linux) or `Cmd + End` (Mac) to accept the rest of the line.\n",
    "\n",
    "### Chat Features\n",
    "- **Open Copilot Chat**: Press `Ctrl + Shift + I` (Windows/Linux) or `Cmd + Shift + I` (Mac).\n",
    "- **Send Message in Chat**: Press `Shift + Enter` or click the send button.\n",
    "\n",
    "These shortcuts can help you navigate and utilize Copilot more effectively while coding."
   ]
  },
  {
   "cell_type": "markdown",
   "metadata": {},
   "source": [
    "\n",
    "## 5. Whole File Generation\n",
    "\n",
    "Copilot can generate entire files based on a description. Start with a detailed comment at the top of the file:\n",
    "```python\n",
    "# Create a FastAPI application that:\n",
    "# 1. Implements a RESTful API for managing patient data\n",
    "# 2. Provides endpoints for adding, retrieving, and updating patient records\n",
    "# 3. Includes data validation and error handling\n",
    "# 4. Implements authentication for secure access\n",
    "# 5. Returns data in JSON format with proper status codes\n",
    "```\n",
    "\n",
    "## 6. Test Generation\n",
    "\n",
    "Copilot can help write tests for your code:"
   ]
  },
  {
   "cell_type": "code",
   "execution_count": null,
   "metadata": {},
   "outputs": [],
   "source": [
    "def calculate_dosage(weight, age, condition):\n",
    "    \"\"\"Calculate medication dosage based on patient parameters.\"\"\"\n",
    "    if weight <= 0 or age < 0:\n",
    "        raise ValueError(\"Weight and age must be positive\")\n",
    "    \n",
    "    base_dosage = weight * 2\n",
    "    if age < 12:\n",
    "        base_dosage *= 0.75\n",
    "    \n",
    "    if condition == \"severe\":\n",
    "        base_dosage *= 1.5\n",
    "    \n",
    "    return round(base_dosage, 2)\n",
    "\n",
    "# Write pytest test cases for the above function\n",
    "# Include tests for normal cases, edge cases, and error conditions"
   ]
  },
  {
   "cell_type": "markdown",
   "metadata": {},
   "source": [
    "# Best Practices\n",
    "\n",
    "1. **Review Generated Code**:\n",
    "   - Always review and understand code before accepting it\n",
    "   - Check for potential security issues\n",
    "   - Verify that the code follows your project's standards\n",
    "\n",
    "2. **Write Clear Comments**:\n",
    "   - Be specific about what you want\n",
    "   - Include important requirements in comments\n",
    "   - Mention edge cases and error handling needs\n",
    "\n",
    "3. **Iterative Refinement**:\n",
    "   - Start with a basic implementation\n",
    "   - Add comments for additional features\n",
    "   - Let Copilot help refactor and improve the code\n",
    "\n"
   ]
  },
  {
   "cell_type": "markdown",
   "metadata": {},
   "source": [
    "### ✏️ Exercise Create a function that processes medical image data:\n",
    "   - Accept a numpy array representing an image\n",
    "   - Apply basic image processing (normalization, filtering)\n",
    "   - Return the processed image\n",
    "   - Include proper error handling"
   ]
  },
  {
   "cell_type": "code",
   "execution_count": null,
   "metadata": {},
   "outputs": [],
   "source": []
  },
  {
   "cell_type": "markdown",
   "metadata": {},
   "source": [
    "\n",
    "### ✏️ Exercise: Write a class for managing patient records\n",
    "   - Include methods for adding, updating, and retrieving records\n",
    "   - Implement data validation\n",
    "   - Add methods for basic statistical analysis"
   ]
  },
  {
   "cell_type": "code",
   "execution_count": null,
   "metadata": {},
   "outputs": [],
   "source": []
  },
  {
   "cell_type": "markdown",
   "metadata": {},
   "source": [
    "### ✏️ Exercise: Create a data visualization dashboard\n",
    "   - Use pandas for data manipulation\n",
    "   - Create multiple types of plots using matplotlib\n",
    "   - Add interactive elements"
   ]
  },
  {
   "cell_type": "code",
   "execution_count": null,
   "metadata": {},
   "outputs": [],
   "source": []
  },
  {
   "cell_type": "markdown",
   "metadata": {},
   "source": [
    "# Conclusion\n",
    "\n",
    "GitHub Copilot is a powerful tool that can significantly enhance your coding productivity. Remember:\n",
    "\n",
    "- It's an assistant, not a replacement for understanding code\n",
    "- Always review and test generated code\n",
    "- Use it to learn new patterns and approaches\n",
    "- Combine it with your own knowledge and creativity\n",
    "\n",
    "As you continue to use Copilot, you'll develop a workflow that helps you write better code more efficiently while maintaining good coding practices."
   ]
  }
 ],
 "metadata": {
  "kernelspec": {
   "display_name": "Python 3",
   "language": "python",
   "name": "python3"
  },
  "language_info": {
   "codemirror_mode": {
    "name": "ipython",
    "version": 3
   },
   "file_extension": ".py",
   "mimetype": "text/x-python",
   "name": "python",
   "nbconvert_exporter": "python",
   "pygments_lexer": "ipython3",
   "version": "3.12.1"
  }
 },
 "nbformat": 4,
 "nbformat_minor": 4
}
